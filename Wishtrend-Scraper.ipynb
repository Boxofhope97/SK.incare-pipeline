{
 "cells": [
  {
   "cell_type": "code",
   "execution_count": 36,
   "id": "fa081171-0bff-42f3-80cf-927c53f39995",
   "metadata": {
    "scrolled": true
   },
   "outputs": [
    {
     "name": "stdout",
     "output_type": "stream",
     "text": [
      "[{'brand': 'Klairs', 'name': 'Rich Moist Soothing Cream', 'current_price': '$7.80', 'sale_price': '$23.50', 'discount_percent': '70%'}]\n",
      "[{'brand': 'By Wishtrend', 'name': 'Vitamin A-mazing Bakuchiol Night Cream', 'current_price': '$23.10', 'sale_price': '$23.50', 'discount_percent': '30%'}]\n",
      "[{'brand': \"I'M FROM\", 'name': 'Rice Toner', 'current_price': '$19.60', 'sale_price': '$23.50', 'discount_percent': '30%'}]\n",
      "[{'brand': 'WTL', 'name': 'Correcting Post Pigmentation Clearing Box', 'current_price': '$65.00', 'sale_price': '$23.50', 'discount_percent': '50%'}]\n",
      "[{'brand': 'STARTER PACKAGE', 'name': 'Klairs Starter Package', 'current_price': '$74.53', 'sale_price': '$23.50', 'discount_percent': '45%'}]\n",
      "[{'brand': 'Klairs', 'name': 'All-day Airy Sunscreen', 'current_price': '$12.60', 'sale_price': '$23.50', 'discount_percent': '40%'}]\n",
      "[{'brand': 'Klairs', 'name': 'Freshly Juiced Vitamin E Mask', 'current_price': '$20.25', 'sale_price': '$23.50', 'discount_percent': '25%'}]\n",
      "[{'brand': 'By Wishtrend', 'name': 'Green Tea & Enzyme Powder Wash', 'current_price': '$19.20', 'sale_price': '$23.50', 'discount_percent': '20%'}]\n",
      "[{'brand': 'STARTER PACKAGE', 'name': \"I'm From Starter Package (Renewal)\", 'current_price': '$70.20', 'sale_price': '$23.50', 'discount_percent': '40%'}]\n",
      "[{'brand': 'Klairs', 'name': 'Freshly Juiced Vitamin Drop', 'current_price': '$16.10', 'sale_price': '$23.50', 'discount_percent': '30%'}]\n",
      "[{'brand': \"I'M FROM\", 'name': 'Mugwort Essence', 'current_price': '$26.00', 'sale_price': '$23.50', 'discount_percent': '35%'}]\n",
      "[{'brand': 'Klairs', 'name': 'Midnight Blue Calming Cream', 'current_price': '$12.50', 'sale_price': '$23.50', 'discount_percent': '50%'}]\n",
      "[{'brand': 'STARTER PACKAGE', 'name': 'By Wishtrend Starter Package', 'current_price': '$74.80', 'sale_price': '$23.50', 'discount_percent': '45%'}]\n",
      "[{'brand': 'Klairs', 'name': 'Supple Preparation Unscented Toner', 'current_price': '$13.20', 'sale_price': '$23.50', 'discount_percent': '40%'}]\n",
      "[{'brand': 'Klairs', 'name': 'Supple Preparation Facial Toner', 'current_price': '$15.40', 'sale_price': '$23.50', 'discount_percent': '30%'}]\n",
      "[{'brand': \"I'M FROM\", 'name': 'Honey Mask', 'current_price': '$26.60', 'sale_price': '$23.50', 'discount_percent': '30%'}]\n",
      "[{'brand': 'By Wishtrend', 'name': 'Mandelic Acid 5% Skin Prep Water', 'current_price': '$15.40', 'sale_price': '$23.50', 'discount_percent': '30%'}]\n",
      "[{'brand': 'Klairs', 'name': 'Rich Moist Foaming Cleanser', 'current_price': '$13.50', 'sale_price': '$23.50', 'discount_percent': '25%'}]\n",
      "[{'brand': 'GIFTS & SETS', 'name': 'Freshly Juiced Vitamin Set', 'current_price': '$27.50', 'sale_price': '$23.50', 'discount_percent': '45%'}]\n",
      "[{'brand': 'Klairs', 'name': 'Freshly Juiced Vitamin Charging Serum', 'current_price': '$26.00', 'sale_price': '$23.50', 'discount_percent': '35%'}]\n",
      "[{'brand': \"I'M FROM\", 'name': 'Vitamin Tree Water Gel', 'current_price': '$19.60', 'sale_price': '$23.50', 'discount_percent': '30%'}]\n",
      "[{'brand': \"I'M FROM\", 'name': 'Fig Scrub Mask', 'current_price': '$22.40', 'sale_price': '$23.50', 'discount_percent': '30%'}]\n",
      "[{'brand': \"CHASIN' RABBITS\", 'name': 'Mindful Bubble Cleanse', 'current_price': '$13.80', 'sale_price': '$23.50', 'discount_percent': '40%'}]\n",
      "[{'brand': \"I'M FROM\", 'name': 'Hug Mask', 'current_price': '$24.50', 'sale_price': '$23.50', 'discount_percent': '30%'}]\n",
      "[{'brand': 'By Wishtrend', 'name': 'UV Defense Moist Cream', 'current_price': '$16.80', 'sale_price': '$23.50', 'discount_percent': '40%'}]\n",
      "[{'brand': 'Klairs', 'name': 'Gentle Black Fresh Cleansing Oil', 'current_price': '$19.20', 'sale_price': '$23.50', 'discount_percent': '20%'}]\n",
      "[{'brand': 'COSRX', 'name': 'Low pH Good Morning Gel Cleanser', 'current_price': '$8.40', 'sale_price': '$23.50', 'discount_percent': '40%'}]\n",
      "[{'brand': 'COSRX', 'name': 'Aloe Soothing Sun Cream SPF50+ PA+++', 'current_price': '$9.60', 'sale_price': '$23.50', 'discount_percent': '40%'}]\n",
      "[{'brand': 'Klairs', 'name': 'Gentle Black Deep Cleansing Oil', 'current_price': '$17.25', 'sale_price': '$23.50', 'discount_percent': '25%'}]\n",
      "[{'brand': 'Klairs', 'name': 'Midnight Blue Youth Activating Drop', 'current_price': '$21.00', 'sale_price': '$23.50', 'discount_percent': '30%'}]\n",
      "[{'brand': 'By Wishtrend', 'name': 'Pure Vitamin C 21.5% Advanced Serum', 'current_price': '$19.50', 'sale_price': '$23.50', 'discount_percent': '35%'}]\n",
      "[{'brand': 'Klairs', 'name': 'Supple Preparation All over Lotion', 'current_price': '$19.50', 'sale_price': '$23.50', 'discount_percent': '25%'}]\n",
      "[{'brand': 'STARTER PACKAGE', 'name': 'Cosrx Starter Package', 'current_price': '$48.60', 'sale_price': '$23.50', 'discount_percent': '40%'}]\n",
      "[{'brand': 'COSRX', 'name': 'Advanced Snail Mucin 96 Power Essence', 'current_price': '$15.00', 'sale_price': '$23.50', 'discount_percent': '40%'}]\n",
      "[{'brand': 'Klairs', 'name': 'Midnight Blue Calming Sheet Mask', 'current_price': '$2.40', 'sale_price': '$23.50', 'discount_percent': '20%'}]\n",
      "[{'brand': 'COSRX', 'name': 'Advanced Snail 92 All in One Cream', 'current_price': '$15.60', 'sale_price': '$23.50', 'discount_percent': '40%'}]\n",
      "[{'brand': 'Klairs', 'name': 'Toner Mate 2 in 1 Cotton pad', 'current_price': '$5.20', 'sale_price': '$23.50', 'discount_percent': '20%'}]\n",
      "[{'brand': 'BRAND PACKAGE', 'name': 'Rich Moist Package', 'current_price': '$36.85', 'sale_price': '$23.50', 'discount_percent': '45%'}]\n",
      "[{'brand': 'By Wishtrend', 'name': 'Clear Skin Shield Patch', 'current_price': '$8.50', 'sale_price': '$23.50', 'discount_percent': '15%'}]\n",
      "[{'brand': 'COSRX', 'name': 'Acne Pimple Master Patch', 'current_price': '$3.60', 'sale_price': '$23.50', 'discount_percent': '40%'}]\n",
      "[{'brand': 'COSRX', 'name': 'Advanced Snail Peptide Eye Cream', 'current_price': '$16.80', 'sale_price': '$23.50', 'discount_percent': '40%'}]\n",
      "[{'brand': 'elmt', 'name': 'PURE VITAMIN C 20% ELEMENT', 'current_price': '$29.25', 'sale_price': '$23.50', 'discount_percent': '35%'}]\n",
      "[{'brand': 'By Wishtrend', 'name': 'Cera-barrier Soothing Ampoule', 'current_price': '$15.40', 'sale_price': '$23.50', 'discount_percent': '45%'}]\n",
      "[{'brand': 'Klairs', 'name': 'Rich Moist Soothing Tencel Sheet Mask', 'current_price': '$2.40', 'sale_price': '$23.50', 'discount_percent': '20%'}]\n",
      "[{'brand': 'ROVECTIN', 'name': 'Lotus Water Cream', 'current_price': '$12.00', 'sale_price': '$23.50', 'discount_percent': '40%'}]\n",
      "[{'brand': 'GIFTS & SETS', 'name': 'Sheet Mask Bundles', 'current_price': '$18.70', 'sale_price': '$23.50', 'discount_percent': '20%'}]\n"
     ]
    }
   ],
   "source": [
    "import requests\n",
    "import json\n",
    "from bs4 import BeautifulSoup\n",
    "\n",
    "for x in range(1,5):\n",
    "    url = f'https://wishtrend.com/en-gb/collections/bestsellers?page={x}'\n",
    "    r = requests.get(url)\n",
    "    soup = BeautifulSoup(r.content, 'lxml')\n",
    "    productlist = soup.find_all('div', class_='mt-3 lg:mt-5')\n",
    "\n",
    "    for item in productlist:\n",
    "    # Extract brand, name, current price, original price, discount percentage\n",
    "        brand = item.find('span', class_='sf__pcard-vendor').text.strip()\n",
    "        name = item.find('a', class_='sf__pcard-name').text.strip()\n",
    "        current_price = item.find('span', class_='prod__price').text.strip()\n",
    "        original_price = item.find('span', class_='prod__compare_price').text.strip()\n",
    "        discount_percent = item.find('span', class_='discount_price').text.strip()\n",
    "\n",
    "        # store the information in a data structure: create a list and append each item to it.\n",
    "        all_products = []\n",
    "        product_info = {\"brand\": brand, \"name\": name, \"current_price\": current_price, \"sale_price\": sale_price, \"discount_percent\": discount_percent}\n",
    "        all_products.append(product_info)\n",
    "        print(all_products)\n",
    "        # Print or store the information as needed\n",
    "        # print(f\"{brand}, {name}, {price},{sale_price},{discount_percent}\")"
   ]
  },
  {
   "cell_type": "code",
   "execution_count": 26,
   "id": "07d76460-2a92-4b0a-bb65-068af238646e",
   "metadata": {},
   "outputs": [
    {
     "ename": "SyntaxError",
     "evalue": "invalid syntax (3650583719.py, line 1)",
     "output_type": "error",
     "traceback": [
      "\u001b[0;36m  Cell \u001b[0;32mIn[26], line 1\u001b[0;36m\u001b[0m\n\u001b[0;31m    * Pull ratings info\u001b[0m\n\u001b[0m           ^\u001b[0m\n\u001b[0;31mSyntaxError\u001b[0m\u001b[0;31m:\u001b[0m invalid syntax\n"
     ]
    }
   ],
   "source": [
    "* pull ratings info\n",
    "* loop through all pages\n",
    "* put into table\n",
    "* export to CSV\n",
    "* export to db directly\n",
    "* pull product ingredients info from product page + link eith bestseller info"
   ]
  }
 ],
 "metadata": {
  "kernelspec": {
   "display_name": "Python 3 (ipykernel)",
   "language": "python",
   "name": "python3"
  },
  "language_info": {
   "codemirror_mode": {
    "name": "ipython",
    "version": 3
   },
   "file_extension": ".py",
   "mimetype": "text/x-python",
   "name": "python",
   "nbconvert_exporter": "python",
   "pygments_lexer": "ipython3",
   "version": "3.12.0"
  }
 },
 "nbformat": 4,
 "nbformat_minor": 5
}
