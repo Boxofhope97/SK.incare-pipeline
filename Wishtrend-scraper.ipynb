{
 "cells": [
  {
   "cell_type": "code",
   "execution_count": 19,
   "id": "fa081171-0bff-42f3-80cf-927c53f39995",
   "metadata": {
    "scrolled": true
   },
   "outputs": [],
   "source": [
    "import requests\n",
    "import json\n",
    "from bs4 import BeautifulSoup\n",
    "import pandas as pd\n",
    "import csv\n",
    "\n",
    "# create empty list to store product information\n",
    "productlist = []\n",
    "\n",
    "for x in range(1,5):\n",
    "    url = f'https://wishtrend.com/en-gb/collections/bestsellers?page={x}'\n",
    "    r = requests.get(url)\n",
    "    soup = BeautifulSoup(r.content, 'lxml')\n",
    "    websitecode = soup.find_all('div', class_='mt-3 lg:mt-5')\n",
    "\n",
    "    for item in websitecode:\n",
    "    # Extract brand, name, current price, original price, discount percentage\n",
    "        brand = item.find('span', class_='sf__pcard-vendor').text.strip()\n",
    "        name = item.find('a', class_='sf__pcard-name').text.strip()\n",
    "        current_price = item.find('span', class_='prod__price').text.strip()\n",
    "        original_price = item.find('span', class_='prod__compare_price').text.strip()\n",
    "        discount_percent = item.find('span', class_='discount_price').text.strip()\n",
    "\n",
    "        # create a dictionary for each product\n",
    "        product_info = {\"brand\": brand, \"name\": name, \"current_price\": current_price, \"original_price\": original_price, \"discount_percent\": discount_percent}\n",
    "        \n",
    "        # append dictionary to product list\n",
    "        productlist.append(product_info)"
   ]
  },
  {
   "cell_type": "code",
   "execution_count": 20,
   "id": "07d76460-2a92-4b0a-bb65-068af238646e",
   "metadata": {},
   "outputs": [
    {
     "name": "stdout",
     "output_type": "stream",
     "text": [
      "              brand                                       name current_price  \\\n",
      "0            Klairs                     All-day Airy Sunscreen        $12.60   \n",
      "1            Klairs                Midnight Blue Calming Cream        $12.50   \n",
      "2            Klairs         Supple Preparation Unscented Toner        $13.20   \n",
      "3      By Wishtrend              Cera-barrier Soothing Ampoule        $15.40   \n",
      "4          I'M FROM                            Mugwort Essence        $26.00   \n",
      "5            Klairs                  Rich Moist Soothing Cream         $7.80   \n",
      "6      By Wishtrend     Vitamin A-mazing Bakuchiol Night Cream        $23.10   \n",
      "7          I'M FROM                                 Rice Toner        $19.60   \n",
      "8   STARTER PACKAGE         I'm From Starter Package (Renewal)        $70.20   \n",
      "9               WTL  Correcting Post Pigmentation Clearing Box        $65.00   \n",
      "10  STARTER PACKAGE                     Klairs Starter Package        $74.53   \n",
      "11           Klairs              Freshly Juiced Vitamin E Mask        $20.25   \n",
      "12     By Wishtrend             Green Tea & Enzyme Powder Wash        $19.20   \n",
      "13           Klairs                Freshly Juiced Vitamin Drop        $16.10   \n",
      "14  STARTER PACKAGE               By Wishtrend Starter Package        $74.80   \n",
      "15           Klairs            Supple Preparation Facial Toner        $15.40   \n",
      "16         I'M FROM                                 Honey Mask        $26.60   \n",
      "17     By Wishtrend           Mandelic Acid 5% Skin Prep Water        $15.40   \n",
      "18           Klairs                Rich Moist Foaming Cleanser        $13.50   \n",
      "19     GIFTS & SETS                 Freshly Juiced Vitamin Set        $27.50   \n",
      "20           Klairs      Freshly Juiced Vitamin Charging Serum        $26.00   \n",
      "21         I'M FROM                     Vitamin Tree Water Gel        $19.60   \n",
      "22         I'M FROM                             Fig Scrub Mask        $22.40   \n",
      "23  CHASIN' RABBITS                     Mindful Bubble Cleanse        $13.80   \n",
      "24         I'M FROM                                   Hug Mask        $24.50   \n",
      "25     By Wishtrend                     UV Defense Moist Cream        $16.80   \n",
      "26           Klairs           Gentle Black Fresh Cleansing Oil        $19.20   \n",
      "27            COSRX           Low pH Good Morning Gel Cleanser         $8.40   \n",
      "28            COSRX       Aloe Soothing Sun Cream SPF50+ PA+++         $9.60   \n",
      "29           Klairs            Gentle Black Deep Cleansing Oil        $17.25   \n",
      "30           Klairs        Midnight Blue Youth Activating Drop        $21.00   \n",
      "31     By Wishtrend        Pure Vitamin C 21.5% Advanced Serum        $19.50   \n",
      "32           Klairs         Supple Preparation All over Lotion        $19.50   \n",
      "33  STARTER PACKAGE                      Cosrx Starter Package        $48.60   \n",
      "34            COSRX      Advanced Snail Mucin 96 Power Essence        $15.00   \n",
      "35           Klairs           Midnight Blue Calming Sheet Mask         $2.40   \n",
      "36            COSRX         Advanced Snail 92 All in One Cream        $15.60   \n",
      "37           Klairs               Toner Mate 2 in 1 Cotton pad         $5.20   \n",
      "38    BRAND PACKAGE                         Rich Moist Package        $36.85   \n",
      "39     By Wishtrend                    Clear Skin Shield Patch         $8.50   \n",
      "40            COSRX                   Acne Pimple Master Patch         $3.60   \n",
      "41            COSRX           Advanced Snail Peptide Eye Cream        $16.80   \n",
      "42             elmt                 PURE VITAMIN C 20% ELEMENT        $29.25   \n",
      "43           Klairs      Rich Moist Soothing Tencel Sheet Mask         $2.40   \n",
      "44         ROVECTIN                          Lotus Water Cream        $12.00   \n",
      "45     GIFTS & SETS                         Sheet Mask Bundles        $18.70   \n",
      "\n",
      "   original_price discount_percent  \n",
      "0          $21.00              40%  \n",
      "1          $25.00              50%  \n",
      "2          $22.00              40%  \n",
      "3          $28.00              45%  \n",
      "4          $40.00              35%  \n",
      "5          $26.00              70%  \n",
      "6          $33.00              30%  \n",
      "7          $28.00              30%  \n",
      "8         $117.00              40%  \n",
      "9         $130.00              50%  \n",
      "10        $135.50              45%  \n",
      "11         $27.00              25%  \n",
      "12         $24.00              20%  \n",
      "13         $23.00              30%  \n",
      "14        $136.00              45%  \n",
      "15         $22.00              30%  \n",
      "16         $38.00              30%  \n",
      "17         $22.00              30%  \n",
      "18         $18.00              25%  \n",
      "19         $50.00              45%  \n",
      "20         $40.00              35%  \n",
      "21         $28.00              30%  \n",
      "22         $32.00              30%  \n",
      "23         $23.00              40%  \n",
      "24         $35.00              30%  \n",
      "25         $28.00              40%  \n",
      "26         $24.00              20%  \n",
      "27         $14.00              40%  \n",
      "28         $16.00              40%  \n",
      "29         $23.00              25%  \n",
      "30         $30.00              30%  \n",
      "31         $30.00              35%  \n",
      "32         $26.00              25%  \n",
      "33         $81.00              40%  \n",
      "34         $25.00              40%  \n",
      "35          $3.00              20%  \n",
      "36         $26.00              40%  \n",
      "37          $6.50              20%  \n",
      "38         $67.00              45%  \n",
      "39         $10.00              15%  \n",
      "40          $6.00              40%  \n",
      "41         $28.00              40%  \n",
      "42         $45.00              35%  \n",
      "43          $3.00              20%  \n",
      "44         $20.00              40%  \n",
      "45         $23.50              20%  \n"
     ]
    }
   ],
   "source": [
    "# export productlist to Pandas dataframe\n",
    "df = pd.DataFrame(productlist)\n",
    "print(df)"
   ]
  },
  {
   "cell_type": "code",
   "execution_count": 21,
   "id": "d7cda9af-edbf-44f3-a6d9-44af9378e9c0",
   "metadata": {
    "scrolled": true
   },
   "outputs": [
    {
     "name": "stdout",
     "output_type": "stream",
     "text": [
      "Data exported to WishtrendBestsellersFinal.csv\n"
     ]
    }
   ],
   "source": [
    "# create csv and write dataframe to it\n",
    "csv_file_path = 'WishtrendBestsellersFinal.csv'\n",
    "df.to_csv(csv_file_path, index=False, encoding='utf-8')\n",
    "\n",
    "print(f\"Data exported to {csv_file_path}\")"
   ]
  },
  {
   "cell_type": "code",
   "execution_count": null,
   "id": "19a6f3e6-1fa6-416a-a007-6cc787df05f9",
   "metadata": {},
   "outputs": [],
   "source": []
  }
 ],
 "metadata": {
  "kernelspec": {
   "display_name": "Python 3 (ipykernel)",
   "language": "python",
   "name": "python3"
  },
  "language_info": {
   "codemirror_mode": {
    "name": "ipython",
    "version": 3
   },
   "file_extension": ".py",
   "mimetype": "text/x-python",
   "name": "python",
   "nbconvert_exporter": "python",
   "pygments_lexer": "ipython3",
   "version": "3.12.0"
  }
 },
 "nbformat": 4,
 "nbformat_minor": 5
}
